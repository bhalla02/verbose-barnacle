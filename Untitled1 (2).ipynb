{
 "cells": [
  {
   "cell_type": "code",
   "execution_count": 1,
   "id": "31498681-a685-4f30-9475-de5d491951dc",
   "metadata": {},
   "outputs": [
    {
     "name": "stdout",
     "output_type": "stream",
     "text": [
      "F-value: 1.0\n",
      "p-value: 0.5\n"
     ]
    }
   ],
   "source": [
    "#Q1\n",
    "import numpy as np\n",
    "from scipy.stats import f\n",
    "\n",
    "def variance_ratio_test(data1, data2):\n",
    "    # Calculate variances\n",
    "    var1 = np.var(data1, ddof=1)\n",
    "    var2 = np.var(data2, ddof=1)\n",
    "    \n",
    "    # Calculate F-value\n",
    "    F = var1 / var2 if var1 >= var2 else var2 / var1\n",
    "    \n",
    "    # Degrees of freedom\n",
    "    df1 = len(data1) - 1\n",
    "    df2 = len(data2) - 1\n",
    "    \n",
    "    # Calculate p-value\n",
    "    p_value = 1 - f.cdf(F, df1, df2)\n",
    "    \n",
    "    return F, p_value\n",
    "\n",
    "# Example usage:\n",
    "data1 = [3, 5, 7, 9, 11]\n",
    "data2 = [2, 4, 6, 8, 10]\n",
    "F, p_value = variance_ratio_test(data1, data2)\n",
    "print(\"F-value:\", F)\n",
    "print(\"p-value:\", p_value)\n"
   ]
  },
  {
   "cell_type": "code",
   "execution_count": 2,
   "id": "ce89c4d4-6f6c-4143-b078-2a5daa88d048",
   "metadata": {},
   "outputs": [
    {
     "name": "stdout",
     "output_type": "stream",
     "text": [
      "Critical F-value: 4.825621493405406\n"
     ]
    }
   ],
   "source": [
    "#Q2\n",
    "from scipy.stats import f\n",
    "\n",
    "def critical_f_value(alpha, dfn, dfd):\n",
    "    return f.ppf(1 - alpha / 2, dfn, dfd)\n",
    "\n",
    "# Example usage:\n",
    "alpha = 0.05\n",
    "dfn = 3\n",
    "dfd = 10\n",
    "critical_f = critical_f_value(alpha, dfn, dfd)\n",
    "print(\"Critical F-value:\", critical_f)\n"
   ]
  },
  {
   "cell_type": "code",
   "execution_count": 3,
   "id": "fab48d1f-7a46-449c-ad90-8d855579a8da",
   "metadata": {},
   "outputs": [
    {
     "name": "stdout",
     "output_type": "stream",
     "text": [
      "F-value: 1.3824292680623707\n",
      "Degrees of freedom: 29 29\n",
      "p-value: 0.3883422783274033\n"
     ]
    }
   ],
   "source": [
    "#Q3\n",
    "import numpy as np\n",
    "from scipy.stats import f\n",
    "\n",
    "def variance_equality_test(data1, data2):\n",
    "    var1 = np.var(data1, ddof=1)\n",
    "    var2 = np.var(data2, ddof=1)\n",
    "    F = var1 / var2 if var1 >= var2 else var2 / var1\n",
    "    df1 = len(data1) - 1\n",
    "    df2 = len(data2) - 1\n",
    "    p_value = 2 * min(f.cdf(F, df1, df2), 1 - f.cdf(F, df1, df2))\n",
    "    return F, df1, df2, p_value\n",
    "\n",
    "# Example usage:\n",
    "data1 = np.random.normal(loc=10, scale=2, size=30)\n",
    "data2 = np.random.normal(loc=10, scale=2, size=30)\n",
    "F, df1, df2, p_value = variance_equality_test(data1, data2)\n",
    "print(\"F-value:\", F)\n",
    "print(\"Degrees of freedom:\", df1, df2)\n",
    "print(\"p-value:\", p_value)\n"
   ]
  },
  {
   "cell_type": "code",
   "execution_count": 4,
   "id": "6229beec-4af7-4fa1-bd29-d961e4cf817b",
   "metadata": {},
   "outputs": [
    {
     "name": "stdout",
     "output_type": "stream",
     "text": [
      "Result: False\n",
      "F-statistic: 0.6666666666666666\n",
      "Critical Value: 3.473699051085809\n"
     ]
    }
   ],
   "source": [
    "#Q4\n",
    "from scipy.stats import f\n",
    "\n",
    "def f_test(var1, var2, n1, n2, alpha=0.05):\n",
    "    # Calculate the F-statistic\n",
    "    f_statistic = var1 / var2\n",
    "    \n",
    "    # Calculate degrees of freedom\n",
    "    df1 = n1 - 1\n",
    "    df2 = n2 - 1\n",
    "    \n",
    "    # Calculate critical value from the F-distribution\n",
    "    critical_value = f.ppf(1 - alpha / 2, df1, df2)\n",
    "    \n",
    "    # Determine if variances are significantly different\n",
    "    if f_statistic > critical_value or 1 / f_statistic > critical_value:\n",
    "        return True, f_statistic, critical_value\n",
    "    else:\n",
    "        return False, f_statistic, critical_value\n",
    "\n",
    "# Given variances and sample sizes\n",
    "variance1 = 10\n",
    "variance2 = 15\n",
    "sample_size1 = 12\n",
    "sample_size2 = 12\n",
    "\n",
    "# Conduct F-test\n",
    "result, f_stat, crit_val = f_test(variance1, variance2, sample_size1, sample_size2)\n",
    "print(\"Result:\", result)\n",
    "print(\"F-statistic:\", f_stat)\n",
    "print(\"Critical Value:\", crit_val)\n",
    "\n"
   ]
  },
  {
   "cell_type": "code",
   "execution_count": null,
   "id": "9999b322-1acf-4442-aa95-aafc2ecdb638",
   "metadata": {},
   "outputs": [],
   "source": [
    "#Q5\n"
   ]
  }
 ],
 "metadata": {
  "kernelspec": {
   "display_name": "Python 3 (ipykernel)",
   "language": "python",
   "name": "python3"
  },
  "language_info": {
   "codemirror_mode": {
    "name": "ipython",
    "version": 3
   },
   "file_extension": ".py",
   "mimetype": "text/x-python",
   "name": "python",
   "nbconvert_exporter": "python",
   "pygments_lexer": "ipython3",
   "version": "3.10.8"
  }
 },
 "nbformat": 4,
 "nbformat_minor": 5
}
